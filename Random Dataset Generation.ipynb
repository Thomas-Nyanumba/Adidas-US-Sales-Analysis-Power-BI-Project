{
  "nbformat": 4,
  "nbformat_minor": 0,
  "metadata": {
    "colab": {
      "provenance": [],
      "authorship_tag": "ABX9TyOeBEJ7EdDMprKjfb82n8dt",
      "include_colab_link": true
    },
    "kernelspec": {
      "name": "python3",
      "display_name": "Python 3"
    },
    "language_info": {
      "name": "python"
    }
  },
  "cells": [
    {
      "cell_type": "markdown",
      "metadata": {
        "id": "view-in-github",
        "colab_type": "text"
      },
      "source": [
        "<a href=\"https://colab.research.google.com/github/Thomas-Nyanumba/Adidas-US-Sales-Analysis-Power-BI-Project/blob/main/Random%20Dataset%20Generation.ipynb\" target=\"_parent\"><img src=\"https://colab.research.google.com/assets/colab-badge.svg\" alt=\"Open In Colab\"/></a>"
      ]
    },
    {
      "cell_type": "code",
      "execution_count": null,
      "metadata": {
        "id": "iHprLPEDLW4j"
      },
      "outputs": [],
      "source": []
    },
    {
      "cell_type": "code",
      "source": [
        "import random\n",
        "import datetime\n",
        "import csv\n",
        "\n",
        "# Function to generate a random date within a given range\n",
        "def generate_random_date(start_year, end_year):\n",
        "    start_date = datetime.date(start_year, 1, 1)\n",
        "    end_date = datetime.date(end_year, 12, 31)\n",
        "    random_date = start_date + datetime.timedelta(days=random.randint(0, (end_date - start_date).days))\n",
        "    return random_date\n",
        "\n",
        "# Function to generate random household data\n",
        "def generate_household_data(num_records):\n",
        "    regions = ['Urban', 'Rural', 'Suburban']  # Example regions\n",
        "    income_levels = ['Low', 'Medium', 'High']\n",
        "\n",
        "    households = []\n",
        "    for household_id in range(1, num_records + 1):\n",
        "        household_name = f\"Household_{household_id}\"\n",
        "        region = random.choice(regions)\n",
        "        date_joined = generate_random_date(2018, 2023)\n",
        "        income_level = random.choice(income_levels)\n",
        "        households.append((household_id, household_name, region, date_joined, income_level))\n",
        "\n",
        "    return households\n",
        "\n",
        "# Generate data for 50 households\n",
        "num_records = 50\n",
        "household_data = generate_household_data(num_records)\n",
        "\n",
        "# Save the data to a CSV file (optional, for review or bulk import later)\n",
        "with open(\"households_data.csv\", \"w\", newline=\"\") as csvfile:\n",
        "    writer = csv.writer(csvfile)\n",
        "    writer.writerow([\"HouseholdID\", \"HouseholdName\", \"Region\", \"DateJoined\", \"IncomeLevel\"])\n",
        "    writer.writerows(household_data)\n",
        "\n",
        "print(f\"Generated data for {num_records} households. Saved to 'households_data.csv'.\")"
      ],
      "metadata": {
        "id": "-jJ-gWZNLvSD"
      },
      "execution_count": null,
      "outputs": []
    }
  ]
}